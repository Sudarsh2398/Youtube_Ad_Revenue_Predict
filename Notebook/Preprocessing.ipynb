{
 "cells": [
  {
   "cell_type": "code",
   "execution_count": 1069,
   "id": "429d5b41",
   "metadata": {},
   "outputs": [],
   "source": [
    "import pandas as pd\n",
    "import numpy as np\n",
    "import matplotlib.pyplot as plt\n",
    "import seaborn as sns"
   ]
  },
  {
   "cell_type": "code",
   "execution_count": 1070,
   "id": "f3ce6848",
   "metadata": {},
   "outputs": [
    {
     "name": "stderr",
     "output_type": "stream",
     "text": [
      "<>:1: SyntaxWarning: invalid escape sequence '\\G'\n",
      "<>:1: SyntaxWarning: invalid escape sequence '\\G'\n",
      "C:\\Users\\Admin\\AppData\\Local\\Temp\\ipykernel_12788\\1921811750.py:1: SyntaxWarning: invalid escape sequence '\\G'\n",
      "  df = pd.read_csv('D:\\Guvi projects\\YoutubeAdRevProject\\Datasets\\youtube_ad_revenue_dataset.csv')\n"
     ]
    },
    {
     "data": {
      "text/html": [
       "<div>\n",
       "<style scoped>\n",
       "    .dataframe tbody tr th:only-of-type {\n",
       "        vertical-align: middle;\n",
       "    }\n",
       "\n",
       "    .dataframe tbody tr th {\n",
       "        vertical-align: top;\n",
       "    }\n",
       "\n",
       "    .dataframe thead th {\n",
       "        text-align: right;\n",
       "    }\n",
       "</style>\n",
       "<table border=\"1\" class=\"dataframe\">\n",
       "  <thead>\n",
       "    <tr style=\"text-align: right;\">\n",
       "      <th></th>\n",
       "      <th>video_id</th>\n",
       "      <th>date</th>\n",
       "      <th>views</th>\n",
       "      <th>likes</th>\n",
       "      <th>comments</th>\n",
       "      <th>watch_time_minutes</th>\n",
       "      <th>video_length_minutes</th>\n",
       "      <th>subscribers</th>\n",
       "      <th>category</th>\n",
       "      <th>device</th>\n",
       "      <th>country</th>\n",
       "      <th>ad_revenue_usd</th>\n",
       "    </tr>\n",
       "  </thead>\n",
       "  <tbody>\n",
       "    <tr>\n",
       "      <th>0</th>\n",
       "      <td>vid_3092</td>\n",
       "      <td>2024-09-24 10:50:40.993199</td>\n",
       "      <td>9936</td>\n",
       "      <td>1221.0</td>\n",
       "      <td>320.0</td>\n",
       "      <td>26497.214184</td>\n",
       "      <td>2.862137</td>\n",
       "      <td>228086</td>\n",
       "      <td>Entertainment</td>\n",
       "      <td>TV</td>\n",
       "      <td>IN</td>\n",
       "      <td>203.178237</td>\n",
       "    </tr>\n",
       "    <tr>\n",
       "      <th>1</th>\n",
       "      <td>vid_3459</td>\n",
       "      <td>2024-09-22 10:50:40.993199</td>\n",
       "      <td>10017</td>\n",
       "      <td>642.0</td>\n",
       "      <td>346.0</td>\n",
       "      <td>15209.747445</td>\n",
       "      <td>23.738069</td>\n",
       "      <td>736015</td>\n",
       "      <td>Gaming</td>\n",
       "      <td>Tablet</td>\n",
       "      <td>CA</td>\n",
       "      <td>140.880508</td>\n",
       "    </tr>\n",
       "    <tr>\n",
       "      <th>2</th>\n",
       "      <td>vid_4784</td>\n",
       "      <td>2024-11-21 10:50:40.993199</td>\n",
       "      <td>10097</td>\n",
       "      <td>1979.0</td>\n",
       "      <td>187.0</td>\n",
       "      <td>57332.658498</td>\n",
       "      <td>26.200634</td>\n",
       "      <td>240534</td>\n",
       "      <td>Education</td>\n",
       "      <td>TV</td>\n",
       "      <td>CA</td>\n",
       "      <td>360.134008</td>\n",
       "    </tr>\n",
       "    <tr>\n",
       "      <th>3</th>\n",
       "      <td>vid_4078</td>\n",
       "      <td>2025-01-28 10:50:40.993199</td>\n",
       "      <td>10034</td>\n",
       "      <td>1191.0</td>\n",
       "      <td>242.0</td>\n",
       "      <td>31334.517771</td>\n",
       "      <td>11.770340</td>\n",
       "      <td>434482</td>\n",
       "      <td>Entertainment</td>\n",
       "      <td>Mobile</td>\n",
       "      <td>UK</td>\n",
       "      <td>224.638261</td>\n",
       "    </tr>\n",
       "    <tr>\n",
       "      <th>4</th>\n",
       "      <td>vid_3522</td>\n",
       "      <td>2025-04-28 10:50:40.993199</td>\n",
       "      <td>9889</td>\n",
       "      <td>1858.0</td>\n",
       "      <td>477.0</td>\n",
       "      <td>15665.666434</td>\n",
       "      <td>6.635854</td>\n",
       "      <td>42030</td>\n",
       "      <td>Education</td>\n",
       "      <td>Mobile</td>\n",
       "      <td>CA</td>\n",
       "      <td>165.514388</td>\n",
       "    </tr>\n",
       "  </tbody>\n",
       "</table>\n",
       "</div>"
      ],
      "text/plain": [
       "   video_id                        date  views   likes  comments  \\\n",
       "0  vid_3092  2024-09-24 10:50:40.993199   9936  1221.0     320.0   \n",
       "1  vid_3459  2024-09-22 10:50:40.993199  10017   642.0     346.0   \n",
       "2  vid_4784  2024-11-21 10:50:40.993199  10097  1979.0     187.0   \n",
       "3  vid_4078  2025-01-28 10:50:40.993199  10034  1191.0     242.0   \n",
       "4  vid_3522  2025-04-28 10:50:40.993199   9889  1858.0     477.0   \n",
       "\n",
       "   watch_time_minutes  video_length_minutes  subscribers       category  \\\n",
       "0        26497.214184              2.862137       228086  Entertainment   \n",
       "1        15209.747445             23.738069       736015         Gaming   \n",
       "2        57332.658498             26.200634       240534      Education   \n",
       "3        31334.517771             11.770340       434482  Entertainment   \n",
       "4        15665.666434              6.635854        42030      Education   \n",
       "\n",
       "   device country  ad_revenue_usd  \n",
       "0      TV      IN      203.178237  \n",
       "1  Tablet      CA      140.880508  \n",
       "2      TV      CA      360.134008  \n",
       "3  Mobile      UK      224.638261  \n",
       "4  Mobile      CA      165.514388  "
      ]
     },
     "execution_count": 1070,
     "metadata": {},
     "output_type": "execute_result"
    }
   ],
   "source": [
    "df = pd.read_csv('D:\\Guvi projects\\YoutubeAdRevProject\\Datasets\\youtube_ad_revenue_dataset.csv')\n",
    "df.head()"
   ]
  },
  {
   "cell_type": "code",
   "execution_count": 1071,
   "id": "663b6b2c",
   "metadata": {},
   "outputs": [
    {
     "data": {
      "text/plain": [
       "0         26497.214184\n",
       "1         15209.747445\n",
       "2         57332.658498\n",
       "3         31334.517771\n",
       "4         15665.666434\n",
       "              ...     \n",
       "122395    42075.704885\n",
       "122396    57563.703040\n",
       "122397    27549.714659\n",
       "122398    56967.384382\n",
       "122399    38466.837135\n",
       "Name: watch_time_minutes, Length: 122400, dtype: float64"
      ]
     },
     "execution_count": 1071,
     "metadata": {},
     "output_type": "execute_result"
    }
   ],
   "source": [
    "df['watch_time_minutes']"
   ]
  },
  {
   "cell_type": "code",
   "execution_count": 1072,
   "id": "dc184418",
   "metadata": {},
   "outputs": [
    {
     "data": {
      "text/plain": [
       "(122400, 12)"
      ]
     },
     "execution_count": 1072,
     "metadata": {},
     "output_type": "execute_result"
    }
   ],
   "source": [
    "df.shape"
   ]
  },
  {
   "cell_type": "code",
   "execution_count": 1073,
   "id": "282644b3",
   "metadata": {},
   "outputs": [
    {
     "data": {
      "text/html": [
       "<div>\n",
       "<style scoped>\n",
       "    .dataframe tbody tr th:only-of-type {\n",
       "        vertical-align: middle;\n",
       "    }\n",
       "\n",
       "    .dataframe tbody tr th {\n",
       "        vertical-align: top;\n",
       "    }\n",
       "\n",
       "    .dataframe thead th {\n",
       "        text-align: right;\n",
       "    }\n",
       "</style>\n",
       "<table border=\"1\" class=\"dataframe\">\n",
       "  <thead>\n",
       "    <tr style=\"text-align: right;\">\n",
       "      <th></th>\n",
       "      <th>video_id</th>\n",
       "      <th>date</th>\n",
       "      <th>views</th>\n",
       "      <th>likes</th>\n",
       "      <th>comments</th>\n",
       "      <th>watch_time_minutes</th>\n",
       "      <th>video_length_minutes</th>\n",
       "      <th>subscribers</th>\n",
       "      <th>category</th>\n",
       "      <th>device</th>\n",
       "      <th>country</th>\n",
       "      <th>ad_revenue_usd</th>\n",
       "    </tr>\n",
       "  </thead>\n",
       "  <tbody>\n",
       "    <tr>\n",
       "      <th>count</th>\n",
       "      <td>122400</td>\n",
       "      <td>122400</td>\n",
       "      <td>122400.000000</td>\n",
       "      <td>116283.000000</td>\n",
       "      <td>116288.000000</td>\n",
       "      <td>116295.000000</td>\n",
       "      <td>122400.000000</td>\n",
       "      <td>122400.000000</td>\n",
       "      <td>122400</td>\n",
       "      <td>122400</td>\n",
       "      <td>122400</td>\n",
       "      <td>122400.000000</td>\n",
       "    </tr>\n",
       "    <tr>\n",
       "      <th>unique</th>\n",
       "      <td>5000</td>\n",
       "      <td>365</td>\n",
       "      <td>NaN</td>\n",
       "      <td>NaN</td>\n",
       "      <td>NaN</td>\n",
       "      <td>NaN</td>\n",
       "      <td>NaN</td>\n",
       "      <td>NaN</td>\n",
       "      <td>6</td>\n",
       "      <td>4</td>\n",
       "      <td>6</td>\n",
       "      <td>NaN</td>\n",
       "    </tr>\n",
       "    <tr>\n",
       "      <th>top</th>\n",
       "      <td>vid_3033</td>\n",
       "      <td>2025-04-03 10:50:40.993199</td>\n",
       "      <td>NaN</td>\n",
       "      <td>NaN</td>\n",
       "      <td>NaN</td>\n",
       "      <td>NaN</td>\n",
       "      <td>NaN</td>\n",
       "      <td>NaN</td>\n",
       "      <td>Education</td>\n",
       "      <td>TV</td>\n",
       "      <td>CA</td>\n",
       "      <td>NaN</td>\n",
       "    </tr>\n",
       "    <tr>\n",
       "      <th>freq</th>\n",
       "      <td>47</td>\n",
       "      <td>382</td>\n",
       "      <td>NaN</td>\n",
       "      <td>NaN</td>\n",
       "      <td>NaN</td>\n",
       "      <td>NaN</td>\n",
       "      <td>NaN</td>\n",
       "      <td>NaN</td>\n",
       "      <td>20514</td>\n",
       "      <td>30646</td>\n",
       "      <td>20603</td>\n",
       "      <td>NaN</td>\n",
       "    </tr>\n",
       "    <tr>\n",
       "      <th>mean</th>\n",
       "      <td>NaN</td>\n",
       "      <td>NaN</td>\n",
       "      <td>9999.856283</td>\n",
       "      <td>1099.633618</td>\n",
       "      <td>274.396636</td>\n",
       "      <td>37543.827721</td>\n",
       "      <td>16.014165</td>\n",
       "      <td>502191.719902</td>\n",
       "      <td>NaN</td>\n",
       "      <td>NaN</td>\n",
       "      <td>NaN</td>\n",
       "      <td>252.727210</td>\n",
       "    </tr>\n",
       "    <tr>\n",
       "      <th>std</th>\n",
       "      <td>NaN</td>\n",
       "      <td>NaN</td>\n",
       "      <td>99.881260</td>\n",
       "      <td>519.424089</td>\n",
       "      <td>129.741739</td>\n",
       "      <td>12987.724246</td>\n",
       "      <td>8.083790</td>\n",
       "      <td>288397.470103</td>\n",
       "      <td>NaN</td>\n",
       "      <td>NaN</td>\n",
       "      <td>NaN</td>\n",
       "      <td>61.957052</td>\n",
       "    </tr>\n",
       "    <tr>\n",
       "      <th>min</th>\n",
       "      <td>NaN</td>\n",
       "      <td>NaN</td>\n",
       "      <td>9521.000000</td>\n",
       "      <td>195.000000</td>\n",
       "      <td>48.000000</td>\n",
       "      <td>14659.105562</td>\n",
       "      <td>2.000142</td>\n",
       "      <td>1005.000000</td>\n",
       "      <td>NaN</td>\n",
       "      <td>NaN</td>\n",
       "      <td>NaN</td>\n",
       "      <td>126.590603</td>\n",
       "    </tr>\n",
       "    <tr>\n",
       "      <th>25%</th>\n",
       "      <td>NaN</td>\n",
       "      <td>NaN</td>\n",
       "      <td>9933.000000</td>\n",
       "      <td>650.000000</td>\n",
       "      <td>162.000000</td>\n",
       "      <td>26366.320569</td>\n",
       "      <td>9.004695</td>\n",
       "      <td>252507.500000</td>\n",
       "      <td>NaN</td>\n",
       "      <td>NaN</td>\n",
       "      <td>NaN</td>\n",
       "      <td>199.902018</td>\n",
       "    </tr>\n",
       "    <tr>\n",
       "      <th>50%</th>\n",
       "      <td>NaN</td>\n",
       "      <td>NaN</td>\n",
       "      <td>10000.000000</td>\n",
       "      <td>1103.000000</td>\n",
       "      <td>274.000000</td>\n",
       "      <td>37531.990337</td>\n",
       "      <td>16.005906</td>\n",
       "      <td>503465.500000</td>\n",
       "      <td>NaN</td>\n",
       "      <td>NaN</td>\n",
       "      <td>NaN</td>\n",
       "      <td>252.749699</td>\n",
       "    </tr>\n",
       "    <tr>\n",
       "      <th>75%</th>\n",
       "      <td>NaN</td>\n",
       "      <td>NaN</td>\n",
       "      <td>10067.000000</td>\n",
       "      <td>1547.000000</td>\n",
       "      <td>387.000000</td>\n",
       "      <td>48777.782090</td>\n",
       "      <td>23.021260</td>\n",
       "      <td>752192.000000</td>\n",
       "      <td>NaN</td>\n",
       "      <td>NaN</td>\n",
       "      <td>NaN</td>\n",
       "      <td>305.597518</td>\n",
       "    </tr>\n",
       "    <tr>\n",
       "      <th>max</th>\n",
       "      <td>NaN</td>\n",
       "      <td>NaN</td>\n",
       "      <td>10468.000000</td>\n",
       "      <td>2061.000000</td>\n",
       "      <td>515.000000</td>\n",
       "      <td>61557.670089</td>\n",
       "      <td>29.999799</td>\n",
       "      <td>999997.000000</td>\n",
       "      <td>NaN</td>\n",
       "      <td>NaN</td>\n",
       "      <td>NaN</td>\n",
       "      <td>382.768254</td>\n",
       "    </tr>\n",
       "  </tbody>\n",
       "</table>\n",
       "</div>"
      ],
      "text/plain": [
       "        video_id                        date          views          likes  \\\n",
       "count     122400                      122400  122400.000000  116283.000000   \n",
       "unique      5000                         365            NaN            NaN   \n",
       "top     vid_3033  2025-04-03 10:50:40.993199            NaN            NaN   \n",
       "freq          47                         382            NaN            NaN   \n",
       "mean         NaN                         NaN    9999.856283    1099.633618   \n",
       "std          NaN                         NaN      99.881260     519.424089   \n",
       "min          NaN                         NaN    9521.000000     195.000000   \n",
       "25%          NaN                         NaN    9933.000000     650.000000   \n",
       "50%          NaN                         NaN   10000.000000    1103.000000   \n",
       "75%          NaN                         NaN   10067.000000    1547.000000   \n",
       "max          NaN                         NaN   10468.000000    2061.000000   \n",
       "\n",
       "             comments  watch_time_minutes  video_length_minutes  \\\n",
       "count   116288.000000       116295.000000         122400.000000   \n",
       "unique            NaN                 NaN                   NaN   \n",
       "top               NaN                 NaN                   NaN   \n",
       "freq              NaN                 NaN                   NaN   \n",
       "mean       274.396636        37543.827721             16.014165   \n",
       "std        129.741739        12987.724246              8.083790   \n",
       "min         48.000000        14659.105562              2.000142   \n",
       "25%        162.000000        26366.320569              9.004695   \n",
       "50%        274.000000        37531.990337             16.005906   \n",
       "75%        387.000000        48777.782090             23.021260   \n",
       "max        515.000000        61557.670089             29.999799   \n",
       "\n",
       "          subscribers   category  device country  ad_revenue_usd  \n",
       "count   122400.000000     122400  122400  122400   122400.000000  \n",
       "unique            NaN          6       4       6             NaN  \n",
       "top               NaN  Education      TV      CA             NaN  \n",
       "freq              NaN      20514   30646   20603             NaN  \n",
       "mean    502191.719902        NaN     NaN     NaN      252.727210  \n",
       "std     288397.470103        NaN     NaN     NaN       61.957052  \n",
       "min       1005.000000        NaN     NaN     NaN      126.590603  \n",
       "25%     252507.500000        NaN     NaN     NaN      199.902018  \n",
       "50%     503465.500000        NaN     NaN     NaN      252.749699  \n",
       "75%     752192.000000        NaN     NaN     NaN      305.597518  \n",
       "max     999997.000000        NaN     NaN     NaN      382.768254  "
      ]
     },
     "execution_count": 1073,
     "metadata": {},
     "output_type": "execute_result"
    }
   ],
   "source": [
    "df.describe(include='all')"
   ]
  },
  {
   "cell_type": "code",
   "execution_count": 1074,
   "id": "77324803",
   "metadata": {},
   "outputs": [
    {
     "data": {
      "text/plain": [
       "np.int64(2400)"
      ]
     },
     "execution_count": 1074,
     "metadata": {},
     "output_type": "execute_result"
    }
   ],
   "source": [
    "df.duplicated().sum()"
   ]
  },
  {
   "cell_type": "code",
   "execution_count": 1075,
   "id": "1a846bd7",
   "metadata": {},
   "outputs": [],
   "source": [
    "df.drop_duplicates(inplace=True)"
   ]
  },
  {
   "cell_type": "code",
   "execution_count": 1076,
   "id": "3b488099",
   "metadata": {},
   "outputs": [
    {
     "data": {
      "text/plain": [
       "np.int64(0)"
      ]
     },
     "execution_count": 1076,
     "metadata": {},
     "output_type": "execute_result"
    }
   ],
   "source": [
    "df.duplicated().sum()"
   ]
  },
  {
   "cell_type": "code",
   "execution_count": 1077,
   "id": "0af3f729",
   "metadata": {},
   "outputs": [
    {
     "name": "stdout",
     "output_type": "stream",
     "text": [
      "<class 'pandas.core.frame.DataFrame'>\n",
      "Index: 120000 entries, 0 to 122399\n",
      "Data columns (total 12 columns):\n",
      " #   Column                Non-Null Count   Dtype  \n",
      "---  ------                --------------   -----  \n",
      " 0   video_id              120000 non-null  object \n",
      " 1   date                  120000 non-null  object \n",
      " 2   views                 120000 non-null  int64  \n",
      " 3   likes                 114000 non-null  float64\n",
      " 4   comments              114000 non-null  float64\n",
      " 5   watch_time_minutes    114000 non-null  float64\n",
      " 6   video_length_minutes  120000 non-null  float64\n",
      " 7   subscribers           120000 non-null  int64  \n",
      " 8   category              120000 non-null  object \n",
      " 9   device                120000 non-null  object \n",
      " 10  country               120000 non-null  object \n",
      " 11  ad_revenue_usd        120000 non-null  float64\n",
      "dtypes: float64(5), int64(2), object(5)\n",
      "memory usage: 11.9+ MB\n"
     ]
    }
   ],
   "source": [
    "df.info()"
   ]
  },
  {
   "cell_type": "markdown",
   "id": "f754d1d3",
   "metadata": {},
   "source": [
    "### Video id"
   ]
  },
  {
   "cell_type": "code",
   "execution_count": 1078,
   "id": "74cfe6f9",
   "metadata": {},
   "outputs": [],
   "source": [
    "df.drop(columns=['video_id'], inplace=True) # Dropping video id as it is not useful for analysis"
   ]
  },
  {
   "cell_type": "markdown",
   "id": "66819a1e",
   "metadata": {},
   "source": [
    "### Handle Null values -- likes, comments, watch_time_minutes"
   ]
  },
  {
   "cell_type": "markdown",
   "id": "230d67a6",
   "metadata": {},
   "source": [
    "#### Likes"
   ]
  },
  {
   "cell_type": "code",
   "execution_count": 1079,
   "id": "ee46ebce",
   "metadata": {},
   "outputs": [
    {
     "data": {
      "text/plain": [
       "np.int64(6000)"
      ]
     },
     "execution_count": 1079,
     "metadata": {},
     "output_type": "execute_result"
    }
   ],
   "source": [
    "df['likes'].isnull().sum()"
   ]
  },
  {
   "cell_type": "code",
   "execution_count": 1080,
   "id": "ff5539e9",
   "metadata": {},
   "outputs": [
    {
     "data": {
      "text/plain": [
       "0         1221.0\n",
       "1          642.0\n",
       "2         1979.0\n",
       "3         1191.0\n",
       "4         1858.0\n",
       "           ...  \n",
       "122395    1673.0\n",
       "122396    1709.0\n",
       "122397     700.0\n",
       "122398    1616.0\n",
       "122399     770.0\n",
       "Name: likes, Length: 120000, dtype: float64"
      ]
     },
     "execution_count": 1080,
     "metadata": {},
     "output_type": "execute_result"
    }
   ],
   "source": [
    "df['likes']"
   ]
  },
  {
   "cell_type": "code",
   "execution_count": 1081,
   "id": "fec3fa58",
   "metadata": {},
   "outputs": [
    {
     "data": {
      "text/plain": [
       "<Axes: ylabel='Frequency'>"
      ]
     },
     "execution_count": 1081,
     "metadata": {},
     "output_type": "execute_result"
    },
    {
     "data": {
      "image/png": "[encoded data removed]",
      "text/plain": [
       "<Figure size 640x480 with 1 Axes>"
      ]
     },
     "metadata": {},
     "output_type": "display_data"
    }
   ],
   "source": [
    "df['likes'].plot(kind= 'hist', bins=30)"
   ]
  },
  {
   "cell_type": "code",
   "execution_count": 1082,
   "id": "54fce2b9",
   "metadata": {},
   "outputs": [
    {
     "data": {
      "text/plain": [
       "np.int64(0)"
      ]
     },
     "execution_count": 1082,
     "metadata": {},
     "output_type": "execute_result"
    }
   ],
   "source": [
    "# df['likes'].fillna(df['likes'].median(), inplace=True)\n",
    "# df['likes'].isnull().sum()\n",
    "df['likes'].fillna(0, inplace=True)\n",
    "df['likes'].isnull().sum()"
   ]
  },
  {
   "cell_type": "code",
   "execution_count": 1083,
   "id": "bdf9d4f3",
   "metadata": {},
   "outputs": [
    {
     "data": {
      "text/plain": [
       "dtype('float64')"
      ]
     },
     "execution_count": 1083,
     "metadata": {},
     "output_type": "execute_result"
    }
   ],
   "source": [
    "df['likes'].dtypes"
   ]
  },
  {
   "cell_type": "code",
   "execution_count": 1084,
   "id": "7db1080a",
   "metadata": {},
   "outputs": [
    {
     "data": {
      "text/plain": [
       "dtype('int64')"
      ]
     },
     "execution_count": 1084,
     "metadata": {},
     "output_type": "execute_result"
    }
   ],
   "source": [
    "df['likes'] = df['likes'].astype(int)\n",
    "df['likes'].dtypes"
   ]
  },
  {
   "cell_type": "markdown",
   "id": "41dd888c",
   "metadata": {},
   "source": [
    "#### Comments"
   ]
  },
  {
   "cell_type": "code",
   "execution_count": 1085,
   "id": "3181bcc0",
   "metadata": {},
   "outputs": [
    {
     "data": {
      "text/plain": [
       "np.int64(6000)"
      ]
     },
     "execution_count": 1085,
     "metadata": {},
     "output_type": "execute_result"
    }
   ],
   "source": [
    "df['comments'].isnull().sum()"
   ]
  },
  {
   "cell_type": "code",
   "execution_count": 1086,
   "id": "749dc701",
   "metadata": {},
   "outputs": [
    {
     "data": {
      "text/plain": [
       "0         320.0\n",
       "1         346.0\n",
       "2         187.0\n",
       "3         242.0\n",
       "4         477.0\n",
       "          ...  \n",
       "122395    147.0\n",
       "122396     63.0\n",
       "122397      NaN\n",
       "122398    106.0\n",
       "122399      NaN\n",
       "Name: comments, Length: 120000, dtype: float64"
      ]
     },
     "execution_count": 1086,
     "metadata": {},
     "output_type": "execute_result"
    }
   ],
   "source": [
    "df['comments']"
   ]
  },
  {
   "cell_type": "code",
   "execution_count": 1087,
   "id": "d9e9f4cd",
   "metadata": {},
   "outputs": [
    {
     "data": {
      "text/plain": [
       "<Axes: ylabel='Frequency'>"
      ]
     },
     "execution_count": 1087,
     "metadata": {},
     "output_type": "execute_result"
    },
    {
     "data": {
      "image/png": "[encoded data removed]",
      "text/plain": [
       "<Figure size 640x480 with 1 Axes>"
      ]
     },
     "metadata": {},
     "output_type": "display_data"
    }
   ],
   "source": [
    "df['comments'].plot(kind= 'hist', bins=30, color='orange', edgecolor='black')"
   ]
  },
  {
   "cell_type": "code",
   "execution_count": 1088,
   "id": "18a0631a",
   "metadata": {},
   "outputs": [
    {
     "data": {
      "text/plain": [
       "np.int64(0)"
      ]
     },
     "execution_count": 1088,
     "metadata": {},
     "output_type": "execute_result"
    }
   ],
   "source": [
    "df['comments'].fillna(0, inplace=True)\n",
    "df['comments'].isnull().sum()"
   ]
  },
  {
   "cell_type": "code",
   "execution_count": 1089,
   "id": "cb38d9b9",
   "metadata": {},
   "outputs": [
    {
     "data": {
      "text/plain": [
       "dtype('float64')"
      ]
     },
     "execution_count": 1089,
     "metadata": {},
     "output_type": "execute_result"
    }
   ],
   "source": [
    "df['comments'].dtypes"
   ]
  },
  {
   "cell_type": "code",
   "execution_count": 1090,
   "id": "e51346c2",
   "metadata": {},
   "outputs": [
    {
     "data": {
      "text/plain": [
       "dtype('int64')"
      ]
     },
     "execution_count": 1090,
     "metadata": {},
     "output_type": "execute_result"
    }
   ],
   "source": [
    "df['comments'] = df['comments'].astype(int)\n",
    "df['comments'].dtypes"
   ]
  },
  {
   "cell_type": "markdown",
   "id": "58c47016",
   "metadata": {},
   "source": [
    "#### Watch time mins"
   ]
  },
  {
   "cell_type": "code",
   "execution_count": 1091,
   "id": "0942574f",
   "metadata": {},
   "outputs": [
    {
     "data": {
      "text/plain": [
       "np.int64(6000)"
      ]
     },
     "execution_count": 1091,
     "metadata": {},
     "output_type": "execute_result"
    }
   ],
   "source": [
    "df['watch_time_minutes'].isnull().sum()"
   ]
  },
  {
   "cell_type": "code",
   "execution_count": 1092,
   "id": "e63387e5",
   "metadata": {},
   "outputs": [
    {
     "data": {
      "text/plain": [
       "0         26497.214184\n",
       "1         15209.747445\n",
       "2         57332.658498\n",
       "3         31334.517771\n",
       "4         15665.666434\n",
       "              ...     \n",
       "122395    42075.704885\n",
       "122396    57563.703040\n",
       "122397    27549.714659\n",
       "122398    56967.384382\n",
       "122399    38466.837135\n",
       "Name: watch_time_minutes, Length: 120000, dtype: float64"
      ]
     },
     "execution_count": 1092,
     "metadata": {},
     "output_type": "execute_result"
    }
   ],
   "source": [
    "df['watch_time_minutes']"
   ]
  },
  {
   "cell_type": "code",
   "execution_count": 1093,
   "id": "e3fd52df",
   "metadata": {},
   "outputs": [
    {
     "data": {
      "text/plain": [
       "<Axes: ylabel='Frequency'>"
      ]
     },
     "execution_count": 1093,
     "metadata": {},
     "output_type": "execute_result"
    },
    {
     "data": {
      "image/png": "[encoded data removed]",
      "text/plain": [
       "<Figure size 640x480 with 1 Axes>"
      ]
     },
     "metadata": {},
     "output_type": "display_data"
    }
   ],
   "source": [
    "df['watch_time_minutes'].plot(kind= 'hist', bins= 30, color='green', edgecolor='black')"
   ]
  },
  {
   "cell_type": "code",
   "execution_count": 1094,
   "id": "28b3f373",
   "metadata": {},
   "outputs": [
    {
     "data": {
      "text/html": [
       "<div>\n",
       "<style scoped>\n",
       "    .dataframe tbody tr th:only-of-type {\n",
       "        vertical-align: middle;\n",
       "    }\n",
       "\n",
       "    .dataframe tbody tr th {\n",
       "        vertical-align: top;\n",
       "    }\n",
       "\n",
       "    .dataframe thead th {\n",
       "        text-align: right;\n",
       "    }\n",
       "</style>\n",
       "<table border=\"1\" class=\"dataframe\">\n",
       "  <thead>\n",
       "    <tr style=\"text-align: right;\">\n",
       "      <th></th>\n",
       "      <th>views</th>\n",
       "      <th>likes</th>\n",
       "      <th>comments</th>\n",
       "      <th>video_length_minutes</th>\n",
       "      <th>watch_time_minutes</th>\n",
       "    </tr>\n",
       "  </thead>\n",
       "  <tbody>\n",
       "    <tr>\n",
       "      <th>views</th>\n",
       "      <td>1.000000</td>\n",
       "      <td>0.013082</td>\n",
       "      <td>0.014472</td>\n",
       "      <td>0.001171</td>\n",
       "      <td>0.026737</td>\n",
       "    </tr>\n",
       "    <tr>\n",
       "      <th>likes</th>\n",
       "      <td>0.013082</td>\n",
       "      <td>1.000000</td>\n",
       "      <td>-0.005489</td>\n",
       "      <td>0.000960</td>\n",
       "      <td>0.002606</td>\n",
       "    </tr>\n",
       "    <tr>\n",
       "      <th>comments</th>\n",
       "      <td>0.014472</td>\n",
       "      <td>-0.005489</td>\n",
       "      <td>1.000000</td>\n",
       "      <td>-0.000155</td>\n",
       "      <td>-0.002158</td>\n",
       "    </tr>\n",
       "    <tr>\n",
       "      <th>video_length_minutes</th>\n",
       "      <td>0.001171</td>\n",
       "      <td>0.000960</td>\n",
       "      <td>-0.000155</td>\n",
       "      <td>1.000000</td>\n",
       "      <td>-0.000398</td>\n",
       "    </tr>\n",
       "    <tr>\n",
       "      <th>watch_time_minutes</th>\n",
       "      <td>0.026737</td>\n",
       "      <td>0.002606</td>\n",
       "      <td>-0.002158</td>\n",
       "      <td>-0.000398</td>\n",
       "      <td>1.000000</td>\n",
       "    </tr>\n",
       "  </tbody>\n",
       "</table>\n",
       "</div>"
      ],
      "text/plain": [
       "                         views     likes  comments  video_length_minutes  \\\n",
       "views                 1.000000  0.013082  0.014472              0.001171   \n",
       "likes                 0.013082  1.000000 -0.005489              0.000960   \n",
       "comments              0.014472 -0.005489  1.000000             -0.000155   \n",
       "video_length_minutes  0.001171  0.000960 -0.000155              1.000000   \n",
       "watch_time_minutes    0.026737  0.002606 -0.002158             -0.000398   \n",
       "\n",
       "                      watch_time_minutes  \n",
       "views                           0.026737  \n",
       "likes                           0.002606  \n",
       "comments                       -0.002158  \n",
       "video_length_minutes           -0.000398  \n",
       "watch_time_minutes              1.000000  "
      ]
     },
     "execution_count": 1094,
     "metadata": {},
     "output_type": "execute_result"
    }
   ],
   "source": [
    "df[['views', 'likes', 'comments', 'video_length_minutes', 'watch_time_minutes']].corr()"
   ]
  },
  {
   "cell_type": "code",
   "execution_count": 1095,
   "id": "aa29035c",
   "metadata": {},
   "outputs": [],
   "source": [
    "# average watch time per view from non-null rows\n",
    "avg_watch_time_per_view = (df['watch_time_minutes'] / df['views']).mean()\n",
    "df['watch_time_minutes'] = df['watch_time_minutes'].fillna(df['views'] * avg_watch_time_per_view)"
   ]
  },
  {
   "cell_type": "code",
   "execution_count": 1096,
   "id": "be4dd4e3",
   "metadata": {},
   "outputs": [
    {
     "data": {
      "text/plain": [
       "np.int64(0)"
      ]
     },
     "execution_count": 1096,
     "metadata": {},
     "output_type": "execute_result"
    }
   ],
   "source": [
    "df['watch_time_minutes'].isnull().sum()"
   ]
  },
  {
   "cell_type": "code",
   "execution_count": 1097,
   "id": "327c7bda",
   "metadata": {},
   "outputs": [
    {
     "data": {
      "text/plain": [
       "0         18.400843\n",
       "1         10.562325\n",
       "2         39.814346\n",
       "3         21.760082\n",
       "4         10.878935\n",
       "            ...    \n",
       "122395    29.219240\n",
       "122396    39.974794\n",
       "122397    19.131746\n",
       "122398    39.560684\n",
       "122399    26.713081\n",
       "Name: watch_time_minutes, Length: 120000, dtype: float64"
      ]
     },
     "execution_count": 1097,
     "metadata": {},
     "output_type": "execute_result"
    }
   ],
   "source": [
    "df['watch_time_minutes'] / (60*24)"
   ]
  },
  {
   "cell_type": "code",
   "execution_count": 1098,
   "id": "943fb80f",
   "metadata": {},
   "outputs": [
    {
     "data": {
      "text/plain": [
       "0    18.40\n",
       "1    10.56\n",
       "2    39.81\n",
       "3    21.76\n",
       "4    10.88\n",
       "Name: watch_time_days, dtype: float64"
      ]
     },
     "execution_count": 1098,
     "metadata": {},
     "output_type": "execute_result"
    }
   ],
   "source": [
    "df['watch_time_days'] = df['watch_time_minutes'] / (60*24)\n",
    "df['watch_time_days'] = df['watch_time_days'].round(2)\n",
    "df['watch_time_days'].head()"
   ]
  },
  {
   "cell_type": "code",
   "execution_count": 1099,
   "id": "6b38b7fc",
   "metadata": {},
   "outputs": [],
   "source": [
    "df.drop(columns=['watch_time_minutes'], inplace= True) # Dropping this as we have created with days"
   ]
  },
  {
   "cell_type": "code",
   "execution_count": 1100,
   "id": "e52a143f",
   "metadata": {},
   "outputs": [
    {
     "data": {
      "text/html": [
       "<div>\n",
       "<style scoped>\n",
       "    .dataframe tbody tr th:only-of-type {\n",
       "        vertical-align: middle;\n",
       "    }\n",
       "\n",
       "    .dataframe tbody tr th {\n",
       "        vertical-align: top;\n",
       "    }\n",
       "\n",
       "    .dataframe thead th {\n",
       "        text-align: right;\n",
       "    }\n",
       "</style>\n",
       "<table border=\"1\" class=\"dataframe\">\n",
       "  <thead>\n",
       "    <tr style=\"text-align: right;\">\n",
       "      <th></th>\n",
       "      <th>date</th>\n",
       "      <th>views</th>\n",
       "      <th>likes</th>\n",
       "      <th>comments</th>\n",
       "      <th>video_length_minutes</th>\n",
       "      <th>subscribers</th>\n",
       "      <th>category</th>\n",
       "      <th>device</th>\n",
       "      <th>country</th>\n",
       "      <th>ad_revenue_usd</th>\n",
       "      <th>watch_time_days</th>\n",
       "    </tr>\n",
       "  </thead>\n",
       "  <tbody>\n",
       "    <tr>\n",
       "      <th>0</th>\n",
       "      <td>2024-09-24 10:50:40.993199</td>\n",
       "      <td>9936</td>\n",
       "      <td>1221</td>\n",
       "      <td>320</td>\n",
       "      <td>2.862137</td>\n",
       "      <td>228086</td>\n",
       "      <td>Entertainment</td>\n",
       "      <td>TV</td>\n",
       "      <td>IN</td>\n",
       "      <td>203.178237</td>\n",
       "      <td>18.40</td>\n",
       "    </tr>\n",
       "    <tr>\n",
       "      <th>1</th>\n",
       "      <td>2024-09-22 10:50:40.993199</td>\n",
       "      <td>10017</td>\n",
       "      <td>642</td>\n",
       "      <td>346</td>\n",
       "      <td>23.738069</td>\n",
       "      <td>736015</td>\n",
       "      <td>Gaming</td>\n",
       "      <td>Tablet</td>\n",
       "      <td>CA</td>\n",
       "      <td>140.880508</td>\n",
       "      <td>10.56</td>\n",
       "    </tr>\n",
       "    <tr>\n",
       "      <th>2</th>\n",
       "      <td>2024-11-21 10:50:40.993199</td>\n",
       "      <td>10097</td>\n",
       "      <td>1979</td>\n",
       "      <td>187</td>\n",
       "      <td>26.200634</td>\n",
       "      <td>240534</td>\n",
       "      <td>Education</td>\n",
       "      <td>TV</td>\n",
       "      <td>CA</td>\n",
       "      <td>360.134008</td>\n",
       "      <td>39.81</td>\n",
       "    </tr>\n",
       "    <tr>\n",
       "      <th>3</th>\n",
       "      <td>2025-01-28 10:50:40.993199</td>\n",
       "      <td>10034</td>\n",
       "      <td>1191</td>\n",
       "      <td>242</td>\n",
       "      <td>11.770340</td>\n",
       "      <td>434482</td>\n",
       "      <td>Entertainment</td>\n",
       "      <td>Mobile</td>\n",
       "      <td>UK</td>\n",
       "      <td>224.638261</td>\n",
       "      <td>21.76</td>\n",
       "    </tr>\n",
       "    <tr>\n",
       "      <th>4</th>\n",
       "      <td>2025-04-28 10:50:40.993199</td>\n",
       "      <td>9889</td>\n",
       "      <td>1858</td>\n",
       "      <td>477</td>\n",
       "      <td>6.635854</td>\n",
       "      <td>42030</td>\n",
       "      <td>Education</td>\n",
       "      <td>Mobile</td>\n",
       "      <td>CA</td>\n",
       "      <td>165.514388</td>\n",
       "      <td>10.88</td>\n",
       "    </tr>\n",
       "    <tr>\n",
       "      <th>...</th>\n",
       "      <td>...</td>\n",
       "      <td>...</td>\n",
       "      <td>...</td>\n",
       "      <td>...</td>\n",
       "      <td>...</td>\n",
       "      <td>...</td>\n",
       "      <td>...</td>\n",
       "      <td>...</td>\n",
       "      <td>...</td>\n",
       "      <td>...</td>\n",
       "      <td>...</td>\n",
       "    </tr>\n",
       "    <tr>\n",
       "      <th>122395</th>\n",
       "      <td>2024-12-14 10:50:40.993199</td>\n",
       "      <td>9853</td>\n",
       "      <td>1673</td>\n",
       "      <td>147</td>\n",
       "      <td>25.490195</td>\n",
       "      <td>210818</td>\n",
       "      <td>Education</td>\n",
       "      <td>Tablet</td>\n",
       "      <td>US</td>\n",
       "      <td>280.986396</td>\n",
       "      <td>29.22</td>\n",
       "    </tr>\n",
       "    <tr>\n",
       "      <th>122396</th>\n",
       "      <td>2024-07-13 10:50:40.993199</td>\n",
       "      <td>10128</td>\n",
       "      <td>1709</td>\n",
       "      <td>63</td>\n",
       "      <td>16.229133</td>\n",
       "      <td>878860</td>\n",
       "      <td>Music</td>\n",
       "      <td>Desktop</td>\n",
       "      <td>UK</td>\n",
       "      <td>354.612981</td>\n",
       "      <td>39.97</td>\n",
       "    </tr>\n",
       "    <tr>\n",
       "      <th>122397</th>\n",
       "      <td>2024-06-10 10:50:40.993199</td>\n",
       "      <td>10267</td>\n",
       "      <td>700</td>\n",
       "      <td>0</td>\n",
       "      <td>23.822365</td>\n",
       "      <td>576756</td>\n",
       "      <td>Tech</td>\n",
       "      <td>Tablet</td>\n",
       "      <td>CA</td>\n",
       "      <td>203.643106</td>\n",
       "      <td>19.13</td>\n",
       "    </tr>\n",
       "    <tr>\n",
       "      <th>122398</th>\n",
       "      <td>2024-12-22 10:50:40.993199</td>\n",
       "      <td>10240</td>\n",
       "      <td>1616</td>\n",
       "      <td>106</td>\n",
       "      <td>7.753099</td>\n",
       "      <td>585138</td>\n",
       "      <td>Music</td>\n",
       "      <td>Mobile</td>\n",
       "      <td>UK</td>\n",
       "      <td>351.525811</td>\n",
       "      <td>39.56</td>\n",
       "    </tr>\n",
       "    <tr>\n",
       "      <th>122399</th>\n",
       "      <td>2024-06-25 10:50:40.993199</td>\n",
       "      <td>9931</td>\n",
       "      <td>770</td>\n",
       "      <td>0</td>\n",
       "      <td>27.305703</td>\n",
       "      <td>517587</td>\n",
       "      <td>Tech</td>\n",
       "      <td>TV</td>\n",
       "      <td>CA</td>\n",
       "      <td>253.842824</td>\n",
       "      <td>26.71</td>\n",
       "    </tr>\n",
       "  </tbody>\n",
       "</table>\n",
       "<p>120000 rows × 11 columns</p>\n",
       "</div>"
      ],
      "text/plain": [
       "                              date  views  likes  comments  \\\n",
       "0       2024-09-24 10:50:40.993199   9936   1221       320   \n",
       "1       2024-09-22 10:50:40.993199  10017    642       346   \n",
       "2       2024-11-21 10:50:40.993199  10097   1979       187   \n",
       "3       2025-01-28 10:50:40.993199  10034   1191       242   \n",
       "4       2025-04-28 10:50:40.993199   9889   1858       477   \n",
       "...                            ...    ...    ...       ...   \n",
       "122395  2024-12-14 10:50:40.993199   9853   1673       147   \n",
       "122396  2024-07-13 10:50:40.993199  10128   1709        63   \n",
       "122397  2024-06-10 10:50:40.993199  10267    700         0   \n",
       "122398  2024-12-22 10:50:40.993199  10240   1616       106   \n",
       "122399  2024-06-25 10:50:40.993199   9931    770         0   \n",
       "\n",
       "        video_length_minutes  subscribers       category   device country  \\\n",
       "0                   2.862137       228086  Entertainment       TV      IN   \n",
       "1                  23.738069       736015         Gaming   Tablet      CA   \n",
       "2                  26.200634       240534      Education       TV      CA   \n",
       "3                  11.770340       434482  Entertainment   Mobile      UK   \n",
       "4                   6.635854        42030      Education   Mobile      CA   \n",
       "...                      ...          ...            ...      ...     ...   \n",
       "122395             25.490195       210818      Education   Tablet      US   \n",
       "122396             16.229133       878860          Music  Desktop      UK   \n",
       "122397             23.822365       576756           Tech   Tablet      CA   \n",
       "122398              7.753099       585138          Music   Mobile      UK   \n",
       "122399             27.305703       517587           Tech       TV      CA   \n",
       "\n",
       "        ad_revenue_usd  watch_time_days  \n",
       "0           203.178237            18.40  \n",
       "1           140.880508            10.56  \n",
       "2           360.134008            39.81  \n",
       "3           224.638261            21.76  \n",
       "4           165.514388            10.88  \n",
       "...                ...              ...  \n",
       "122395      280.986396            29.22  \n",
       "122396      354.612981            39.97  \n",
       "122397      203.643106            19.13  \n",
       "122398      351.525811            39.56  \n",
       "122399      253.842824            26.71  \n",
       "\n",
       "[120000 rows x 11 columns]"
      ]
     },
     "execution_count": 1100,
     "metadata": {},
     "output_type": "execute_result"
    }
   ],
   "source": [
    "df"
   ]
  },
  {
   "cell_type": "markdown",
   "id": "a63c8992",
   "metadata": {},
   "source": [
    "### Data Cleaning"
   ]
  },
  {
   "cell_type": "code",
   "execution_count": 1101,
   "id": "6c7a4ee8",
   "metadata": {},
   "outputs": [
    {
     "name": "stdout",
     "output_type": "stream",
     "text": [
      "<class 'pandas.core.frame.DataFrame'>\n",
      "Index: 120000 entries, 0 to 122399\n",
      "Data columns (total 11 columns):\n",
      " #   Column                Non-Null Count   Dtype  \n",
      "---  ------                --------------   -----  \n",
      " 0   date                  120000 non-null  object \n",
      " 1   views                 120000 non-null  int64  \n",
      " 2   likes                 120000 non-null  int64  \n",
      " 3   comments              120000 non-null  int64  \n",
      " 4   video_length_minutes  120000 non-null  float64\n",
      " 5   subscribers           120000 non-null  int64  \n",
      " 6   category              120000 non-null  object \n",
      " 7   device                120000 non-null  object \n",
      " 8   country               120000 non-null  object \n",
      " 9   ad_revenue_usd        120000 non-null  float64\n",
      " 10  watch_time_days       120000 non-null  float64\n",
      "dtypes: float64(3), int64(4), object(4)\n",
      "memory usage: 11.0+ MB\n"
     ]
    }
   ],
   "source": [
    "df.info()"
   ]
  },
  {
   "cell_type": "markdown",
   "id": "5a732a6b",
   "metadata": {},
   "source": [
    "#### Date"
   ]
  },
  {
   "cell_type": "code",
   "execution_count": 1102,
   "id": "8c96a8c1",
   "metadata": {},
   "outputs": [
    {
     "data": {
      "text/plain": [
       "0         2024-09-24 10:50:40.993199\n",
       "1         2024-09-22 10:50:40.993199\n",
       "2         2024-11-21 10:50:40.993199\n",
       "3         2025-01-28 10:50:40.993199\n",
       "4         2025-04-28 10:50:40.993199\n",
       "                     ...            \n",
       "122395    2024-12-14 10:50:40.993199\n",
       "122396    2024-07-13 10:50:40.993199\n",
       "122397    2024-06-10 10:50:40.993199\n",
       "122398    2024-12-22 10:50:40.993199\n",
       "122399    2024-06-25 10:50:40.993199\n",
       "Name: date, Length: 120000, dtype: object"
      ]
     },
     "execution_count": 1102,
     "metadata": {},
     "output_type": "execute_result"
    }
   ],
   "source": [
    "df['date']"
   ]
  },
  {
   "cell_type": "code",
   "execution_count": 1103,
   "id": "1ee180b2",
   "metadata": {},
   "outputs": [
    {
     "data": {
      "text/plain": [
       "count                           120000\n",
       "mean     2024-12-08 03:24:11.233198848\n",
       "min         2024-06-09 10:50:40.993199\n",
       "25%      2024-09-07 10:50:40.993199104\n",
       "50%      2024-12-08 10:50:40.993199104\n",
       "75%      2025-03-09 10:50:40.993199104\n",
       "max         2025-06-08 10:50:40.993199\n",
       "Name: date, dtype: object"
      ]
     },
     "execution_count": 1103,
     "metadata": {},
     "output_type": "execute_result"
    }
   ],
   "source": [
    "df['date'] = pd.to_datetime(df['date'])\n",
    "df['date'].describe()"
   ]
  },
  {
   "cell_type": "code",
   "execution_count": 1104,
   "id": "08d5415c",
   "metadata": {},
   "outputs": [],
   "source": [
    "df['day'] = df['date'].dt.day\n",
    "df['month'] = df['date'].dt.month\n",
    "df['year'] = df['date'].dt.year\n",
    "df['day_name'] = df['date'].dt.day_name()\n"
   ]
  },
  {
   "cell_type": "code",
   "execution_count": 1105,
   "id": "ecb16c88",
   "metadata": {},
   "outputs": [
    {
     "data": {
      "text/plain": [
       "day_name\n",
       "Sunday       17303\n",
       "Tuesday      17225\n",
       "Thursday     17203\n",
       "Wednesday    17169\n",
       "Monday       17168\n",
       "Saturday     16968\n",
       "Friday       16964\n",
       "Name: count, dtype: int64"
      ]
     },
     "execution_count": 1105,
     "metadata": {},
     "output_type": "execute_result"
    }
   ],
   "source": [
    "df['day_name'].value_counts()"
   ]
  },
  {
   "cell_type": "code",
   "execution_count": 1106,
   "id": "e0caaa67",
   "metadata": {},
   "outputs": [],
   "source": [
    "df.drop(columns=['date'], inplace=True) # Dropping date column after extracting useful info."
   ]
  },
  {
   "cell_type": "markdown",
   "id": "11ee4619",
   "metadata": {},
   "source": [
    "#### Views"
   ]
  },
  {
   "cell_type": "code",
   "execution_count": 1107,
   "id": "6de64b4f",
   "metadata": {},
   "outputs": [
    {
     "data": {
      "text/plain": [
       "0          9936\n",
       "1         10017\n",
       "2         10097\n",
       "3         10034\n",
       "4          9889\n",
       "          ...  \n",
       "122395     9853\n",
       "122396    10128\n",
       "122397    10267\n",
       "122398    10240\n",
       "122399     9931\n",
       "Name: views, Length: 120000, dtype: int64"
      ]
     },
     "execution_count": 1107,
     "metadata": {},
     "output_type": "execute_result"
    }
   ],
   "source": [
    "df['views']"
   ]
  },
  {
   "cell_type": "code",
   "execution_count": 1108,
   "id": "925a5f83",
   "metadata": {},
   "outputs": [
    {
     "data": {
      "text/plain": [
       "views\n",
       "9999     520\n",
       "10023    516\n",
       "10019    516\n",
       "9982     512\n",
       "9993     503\n",
       "        ... \n",
       "9537       1\n",
       "10337      1\n",
       "9610       1\n",
       "9691       1\n",
       "10335      1\n",
       "Name: count, Length: 736, dtype: int64"
      ]
     },
     "execution_count": 1108,
     "metadata": {},
     "output_type": "execute_result"
    }
   ],
   "source": [
    "df['views'].value_counts()"
   ]
  },
  {
   "cell_type": "markdown",
   "id": "98f30aa2",
   "metadata": {},
   "source": [
    "#### Video length mins"
   ]
  },
  {
   "cell_type": "code",
   "execution_count": 1109,
   "id": "70cffd21",
   "metadata": {},
   "outputs": [
    {
     "data": {
      "text/plain": [
       "0          2.86\n",
       "1         23.74\n",
       "2         26.20\n",
       "3         11.77\n",
       "4          6.64\n",
       "          ...  \n",
       "122395    25.49\n",
       "122396    16.23\n",
       "122397    23.82\n",
       "122398     7.75\n",
       "122399    27.31\n",
       "Name: video_length_minutes, Length: 120000, dtype: float64"
      ]
     },
     "execution_count": 1109,
     "metadata": {},
     "output_type": "execute_result"
    }
   ],
   "source": [
    "df['video_length_minutes'] = df['video_length_minutes'].round(2)\n",
    "df['video_length_minutes']"
   ]
  },
  {
   "cell_type": "markdown",
   "id": "7f5d0410",
   "metadata": {},
   "source": [
    "#### category"
   ]
  },
  {
   "cell_type": "code",
   "execution_count": 1110,
   "id": "2e488672",
   "metadata": {},
   "outputs": [
    {
     "data": {
      "text/plain": [
       "category\n",
       "Education        20123\n",
       "Music            20065\n",
       "Tech             20028\n",
       "Entertainment    20025\n",
       "Gaming           19974\n",
       "Lifestyle        19785\n",
       "Name: count, dtype: int64"
      ]
     },
     "execution_count": 1110,
     "metadata": {},
     "output_type": "execute_result"
    }
   ],
   "source": [
    "df['category'].value_counts()"
   ]
  },
  {
   "cell_type": "code",
   "execution_count": 1111,
   "id": "f15b30d1",
   "metadata": {},
   "outputs": [
    {
     "data": {
      "text/plain": [
       "<Axes: xlabel='category'>"
      ]
     },
     "execution_count": 1111,
     "metadata": {},
     "output_type": "execute_result"
    },
    {
     "data": {
      "image/png": "[encoded data removed]",
      "text/plain": [
       "<Figure size 640x480 with 1 Axes>"
      ]
     },
     "metadata": {},
     "output_type": "display_data"
    }
   ],
   "source": [
    "# barchart of category and revenue\n",
    "df.groupby('category')['ad_revenue_usd'].sum().plot(kind='bar', color='purple', edgecolor='black')"
   ]
  },
  {
   "cell_type": "code",
   "execution_count": 1112,
   "id": "4c48fa41",
   "metadata": {},
   "outputs": [
    {
     "name": "stdout",
     "output_type": "stream",
     "text": [
      "F-statistic: 1.91706416276387\n",
      "P-value: 0.08788330768704347\n",
      "❌ No significant difference\n"
     ]
    }
   ],
   "source": [
    "import scipy.stats as stats\n",
    "\n",
    "# Group revenues by category\n",
    "groups = [df[df['category'] == cat]['ad_revenue_usd'] for cat in df['category'].unique()]\n",
    "\n",
    "# Run ANOVA\n",
    "f_stat, p_val = stats.f_oneway(*groups)\n",
    "\n",
    "print(\"F-statistic:\", f_stat)\n",
    "print(\"P-value:\", p_val)\n",
    "\n",
    "if p_val < 0.05:\n",
    "    print(\"✅ Significant difference in revenue across categories\")\n",
    "else:\n",
    "    print(\"❌ No significant difference\")"
   ]
  },
  {
   "cell_type": "markdown",
   "id": "49e90c5a",
   "metadata": {},
   "source": [
    "#### Device"
   ]
  },
  {
   "cell_type": "code",
   "execution_count": 1113,
   "id": "a375ae16",
   "metadata": {},
   "outputs": [
    {
     "data": {
      "text/plain": [
       "device\n",
       "TV         30086\n",
       "Mobile     29989\n",
       "Desktop    29984\n",
       "Tablet     29941\n",
       "Name: count, dtype: int64"
      ]
     },
     "execution_count": 1113,
     "metadata": {},
     "output_type": "execute_result"
    }
   ],
   "source": [
    "df['device'].value_counts()"
   ]
  },
  {
   "cell_type": "code",
   "execution_count": 1114,
   "id": "c190dc77",
   "metadata": {},
   "outputs": [
    {
     "data": {
      "text/plain": [
       "<Axes: xlabel='device'>"
      ]
     },
     "execution_count": 1114,
     "metadata": {},
     "output_type": "execute_result"
    },
    {
     "data": {
      "image/png": "[encoded data removed]",
      "text/plain": [
       "<Figure size 640x480 with 1 Axes>"
      ]
     },
     "metadata": {},
     "output_type": "display_data"
    }
   ],
   "source": [
    "df.groupby('device')['ad_revenue_usd'].sum().plot(kind='bar', color='purple', edgecolor='black')"
   ]
  },
  {
   "cell_type": "code",
   "execution_count": 1115,
   "id": "52184232",
   "metadata": {},
   "outputs": [
    {
     "name": "stdout",
     "output_type": "stream",
     "text": [
      "F-statistic: 1.8130185583309124\n",
      "P-value: 0.1423357134534624\n",
      "❌ No significant difference\n"
     ]
    }
   ],
   "source": [
    "import scipy.stats as stats\n",
    "\n",
    "# Group revenues by device\n",
    "groups = [df[df['device'] == cat]['ad_revenue_usd'] for cat in df['device'].unique()]\n",
    "\n",
    "# Run ANOVA\n",
    "f_stat, p_val = stats.f_oneway(*groups)\n",
    "\n",
    "print(\"F-statistic:\", f_stat)\n",
    "print(\"P-value:\", p_val)\n",
    "\n",
    "if p_val < 0.05:\n",
    "    print(\"✅ Significant difference in revenue across categories\")\n",
    "else:\n",
    "    print(\"❌ No significant difference\")"
   ]
  },
  {
   "cell_type": "markdown",
   "id": "9c5afc8e",
   "metadata": {},
   "source": [
    "#### Country"
   ]
  },
  {
   "cell_type": "code",
   "execution_count": 1116,
   "id": "16aefb2b",
   "metadata": {},
   "outputs": [
    {
     "data": {
      "text/plain": [
       "country\n",
       "CA    20198\n",
       "DE    20160\n",
       "IN    20156\n",
       "AU    19911\n",
       "UK    19893\n",
       "US    19682\n",
       "Name: count, dtype: int64"
      ]
     },
     "execution_count": 1116,
     "metadata": {},
     "output_type": "execute_result"
    }
   ],
   "source": [
    "df['country'].value_counts()"
   ]
  },
  {
   "cell_type": "code",
   "execution_count": 1117,
   "id": "b79c697a",
   "metadata": {},
   "outputs": [
    {
     "data": {
      "text/plain": [
       "<Axes: xlabel='country'>"
      ]
     },
     "execution_count": 1117,
     "metadata": {},
     "output_type": "execute_result"
    },
    {
     "data": {
      "image/png": "[encoded data removed]",
      "text/plain": [
       "<Figure size 640x480 with 1 Axes>"
      ]
     },
     "metadata": {},
     "output_type": "display_data"
    }
   ],
   "source": [
    "df.groupby('country')['ad_revenue_usd'].sum().plot(kind='bar', color='purple', edgecolor='black')\n"
   ]
  },
  {
   "cell_type": "code",
   "execution_count": 1118,
   "id": "b3422f3e",
   "metadata": {},
   "outputs": [
    {
     "name": "stdout",
     "output_type": "stream",
     "text": [
      "F-statistic: 0.381382240240526\n",
      "P-value: 0.8618687432381148\n",
      "❌ No significant difference\n"
     ]
    }
   ],
   "source": [
    "import scipy.stats as stats\n",
    "\n",
    "# Group revenues by country\n",
    "groups = [df[df['country'] == cat]['ad_revenue_usd'] for cat in df['country'].unique()]\n",
    "\n",
    "# Run ANOVA\n",
    "f_stat, p_val = stats.f_oneway(*groups)\n",
    "\n",
    "print(\"F-statistic:\", f_stat)\n",
    "print(\"P-value:\", p_val)\n",
    "\n",
    "if p_val < 0.05:\n",
    "    print(\"✅ Significant difference in revenue across categories\")\n",
    "else:\n",
    "    print(\"❌ No significant difference\")"
   ]
  },
  {
   "cell_type": "markdown",
   "id": "5a154519",
   "metadata": {},
   "source": [
    "#### Ad revenue usd"
   ]
  },
  {
   "cell_type": "code",
   "execution_count": 1119,
   "id": "eae6a950",
   "metadata": {},
   "outputs": [
    {
     "data": {
      "text/plain": [
       "0         203.178237\n",
       "1         140.880508\n",
       "2         360.134008\n",
       "3         224.638261\n",
       "4         165.514388\n",
       "             ...    \n",
       "122395    280.986396\n",
       "122396    354.612981\n",
       "122397    203.643106\n",
       "122398    351.525811\n",
       "122399    253.842824\n",
       "Name: ad_revenue_usd, Length: 120000, dtype: float64"
      ]
     },
     "execution_count": 1119,
     "metadata": {},
     "output_type": "execute_result"
    }
   ],
   "source": [
    "df['ad_revenue_usd']"
   ]
  },
  {
   "cell_type": "code",
   "execution_count": 1120,
   "id": "ea858681",
   "metadata": {},
   "outputs": [
    {
     "data": {
      "text/plain": [
       "count    120000.000000\n",
       "mean        252.711361\n",
       "std          61.954125\n",
       "min         126.590603\n",
       "25%         199.892158\n",
       "50%         252.678607\n",
       "75%         305.613497\n",
       "max         382.768254\n",
       "Name: ad_revenue_usd, dtype: float64"
      ]
     },
     "execution_count": 1120,
     "metadata": {},
     "output_type": "execute_result"
    }
   ],
   "source": [
    "df['ad_revenue_usd'].describe()"
   ]
  },
  {
   "cell_type": "code",
   "execution_count": 1121,
   "id": "7414db1f",
   "metadata": {},
   "outputs": [
    {
     "name": "stdout",
     "output_type": "stream",
     "text": [
      "<class 'pandas.core.frame.DataFrame'>\n",
      "Index: 120000 entries, 0 to 122399\n",
      "Data columns (total 14 columns):\n",
      " #   Column                Non-Null Count   Dtype  \n",
      "---  ------                --------------   -----  \n",
      " 0   views                 120000 non-null  int64  \n",
      " 1   likes                 120000 non-null  int64  \n",
      " 2   comments              120000 non-null  int64  \n",
      " 3   video_length_minutes  120000 non-null  float64\n",
      " 4   subscribers           120000 non-null  int64  \n",
      " 5   category              120000 non-null  object \n",
      " 6   device                120000 non-null  object \n",
      " 7   country               120000 non-null  object \n",
      " 8   ad_revenue_usd        120000 non-null  float64\n",
      " 9   watch_time_days       120000 non-null  float64\n",
      " 10  day                   120000 non-null  int32  \n",
      " 11  month                 120000 non-null  int32  \n",
      " 12  year                  120000 non-null  int32  \n",
      " 13  day_name              120000 non-null  object \n",
      "dtypes: float64(3), int32(3), int64(4), object(4)\n",
      "memory usage: 12.4+ MB\n"
     ]
    }
   ],
   "source": [
    "df.info()"
   ]
  },
  {
   "cell_type": "code",
   "execution_count": 1122,
   "id": "81031300",
   "metadata": {},
   "outputs": [],
   "source": [
    "# Engagement rate\n",
    "\n",
    "df['engagement_rate'] = (df['likes'] + df['comments']) / df['views'].replace(0, pd.NA)\n",
    "df['engagement_rate'] = df['engagement_rate'].fillna(0)"
   ]
  },
  {
   "cell_type": "code",
   "execution_count": 1123,
   "id": "7eca98cd",
   "metadata": {},
   "outputs": [
    {
     "data": {
      "text/plain": [
       "engagement_rate\n",
       "0.000000    304\n",
       "0.200000     13\n",
       "0.142857     12\n",
       "0.166667     11\n",
       "0.153846      9\n",
       "           ... \n",
       "0.106863      1\n",
       "0.091253      1\n",
       "0.185086      1\n",
       "0.083857      1\n",
       "0.035559      1\n",
       "Name: count, Length: 110398, dtype: int64"
      ]
     },
     "execution_count": 1123,
     "metadata": {},
     "output_type": "execute_result"
    }
   ],
   "source": [
    "df['engagement_rate'].value_counts()"
   ]
  },
  {
   "cell_type": "code",
   "execution_count": 1124,
   "id": "4b31774a",
   "metadata": {},
   "outputs": [],
   "source": [
    "df.drop(columns=['likes', 'comments', 'views'], inplace=True)"
   ]
  },
  {
   "cell_type": "code",
   "execution_count": 1125,
   "id": "74d2190b",
   "metadata": {},
   "outputs": [
    {
     "data": {
      "text/html": [
       "<div>\n",
       "<style scoped>\n",
       "    .dataframe tbody tr th:only-of-type {\n",
       "        vertical-align: middle;\n",
       "    }\n",
       "\n",
       "    .dataframe tbody tr th {\n",
       "        vertical-align: top;\n",
       "    }\n",
       "\n",
       "    .dataframe thead th {\n",
       "        text-align: right;\n",
       "    }\n",
       "</style>\n",
       "<table border=\"1\" class=\"dataframe\">\n",
       "  <thead>\n",
       "    <tr style=\"text-align: right;\">\n",
       "      <th></th>\n",
       "      <th>video_length_minutes</th>\n",
       "      <th>subscribers</th>\n",
       "      <th>category</th>\n",
       "      <th>device</th>\n",
       "      <th>country</th>\n",
       "      <th>ad_revenue_usd</th>\n",
       "      <th>watch_time_days</th>\n",
       "      <th>day</th>\n",
       "      <th>month</th>\n",
       "      <th>year</th>\n",
       "      <th>day_name</th>\n",
       "      <th>engagement_rate</th>\n",
       "    </tr>\n",
       "  </thead>\n",
       "  <tbody>\n",
       "    <tr>\n",
       "      <th>0</th>\n",
       "      <td>2.86</td>\n",
       "      <td>228086</td>\n",
       "      <td>Entertainment</td>\n",
       "      <td>TV</td>\n",
       "      <td>IN</td>\n",
       "      <td>203.178237</td>\n",
       "      <td>18.40</td>\n",
       "      <td>24</td>\n",
       "      <td>9</td>\n",
       "      <td>2024</td>\n",
       "      <td>Tuesday</td>\n",
       "      <td>0.155093</td>\n",
       "    </tr>\n",
       "    <tr>\n",
       "      <th>1</th>\n",
       "      <td>23.74</td>\n",
       "      <td>736015</td>\n",
       "      <td>Gaming</td>\n",
       "      <td>Tablet</td>\n",
       "      <td>CA</td>\n",
       "      <td>140.880508</td>\n",
       "      <td>10.56</td>\n",
       "      <td>22</td>\n",
       "      <td>9</td>\n",
       "      <td>2024</td>\n",
       "      <td>Sunday</td>\n",
       "      <td>0.098632</td>\n",
       "    </tr>\n",
       "    <tr>\n",
       "      <th>2</th>\n",
       "      <td>26.20</td>\n",
       "      <td>240534</td>\n",
       "      <td>Education</td>\n",
       "      <td>TV</td>\n",
       "      <td>CA</td>\n",
       "      <td>360.134008</td>\n",
       "      <td>39.81</td>\n",
       "      <td>21</td>\n",
       "      <td>11</td>\n",
       "      <td>2024</td>\n",
       "      <td>Thursday</td>\n",
       "      <td>0.214519</td>\n",
       "    </tr>\n",
       "    <tr>\n",
       "      <th>3</th>\n",
       "      <td>11.77</td>\n",
       "      <td>434482</td>\n",
       "      <td>Entertainment</td>\n",
       "      <td>Mobile</td>\n",
       "      <td>UK</td>\n",
       "      <td>224.638261</td>\n",
       "      <td>21.76</td>\n",
       "      <td>28</td>\n",
       "      <td>1</td>\n",
       "      <td>2025</td>\n",
       "      <td>Tuesday</td>\n",
       "      <td>0.142814</td>\n",
       "    </tr>\n",
       "    <tr>\n",
       "      <th>4</th>\n",
       "      <td>6.64</td>\n",
       "      <td>42030</td>\n",
       "      <td>Education</td>\n",
       "      <td>Mobile</td>\n",
       "      <td>CA</td>\n",
       "      <td>165.514388</td>\n",
       "      <td>10.88</td>\n",
       "      <td>28</td>\n",
       "      <td>4</td>\n",
       "      <td>2025</td>\n",
       "      <td>Monday</td>\n",
       "      <td>0.236121</td>\n",
       "    </tr>\n",
       "    <tr>\n",
       "      <th>...</th>\n",
       "      <td>...</td>\n",
       "      <td>...</td>\n",
       "      <td>...</td>\n",
       "      <td>...</td>\n",
       "      <td>...</td>\n",
       "      <td>...</td>\n",
       "      <td>...</td>\n",
       "      <td>...</td>\n",
       "      <td>...</td>\n",
       "      <td>...</td>\n",
       "      <td>...</td>\n",
       "      <td>...</td>\n",
       "    </tr>\n",
       "    <tr>\n",
       "      <th>122395</th>\n",
       "      <td>25.49</td>\n",
       "      <td>210818</td>\n",
       "      <td>Education</td>\n",
       "      <td>Tablet</td>\n",
       "      <td>US</td>\n",
       "      <td>280.986396</td>\n",
       "      <td>29.22</td>\n",
       "      <td>14</td>\n",
       "      <td>12</td>\n",
       "      <td>2024</td>\n",
       "      <td>Saturday</td>\n",
       "      <td>0.184715</td>\n",
       "    </tr>\n",
       "    <tr>\n",
       "      <th>122396</th>\n",
       "      <td>16.23</td>\n",
       "      <td>878860</td>\n",
       "      <td>Music</td>\n",
       "      <td>Desktop</td>\n",
       "      <td>UK</td>\n",
       "      <td>354.612981</td>\n",
       "      <td>39.97</td>\n",
       "      <td>13</td>\n",
       "      <td>7</td>\n",
       "      <td>2024</td>\n",
       "      <td>Saturday</td>\n",
       "      <td>0.174961</td>\n",
       "    </tr>\n",
       "    <tr>\n",
       "      <th>122397</th>\n",
       "      <td>23.82</td>\n",
       "      <td>576756</td>\n",
       "      <td>Tech</td>\n",
       "      <td>Tablet</td>\n",
       "      <td>CA</td>\n",
       "      <td>203.643106</td>\n",
       "      <td>19.13</td>\n",
       "      <td>10</td>\n",
       "      <td>6</td>\n",
       "      <td>2024</td>\n",
       "      <td>Monday</td>\n",
       "      <td>0.068180</td>\n",
       "    </tr>\n",
       "    <tr>\n",
       "      <th>122398</th>\n",
       "      <td>7.75</td>\n",
       "      <td>585138</td>\n",
       "      <td>Music</td>\n",
       "      <td>Mobile</td>\n",
       "      <td>UK</td>\n",
       "      <td>351.525811</td>\n",
       "      <td>39.56</td>\n",
       "      <td>22</td>\n",
       "      <td>12</td>\n",
       "      <td>2024</td>\n",
       "      <td>Sunday</td>\n",
       "      <td>0.168164</td>\n",
       "    </tr>\n",
       "    <tr>\n",
       "      <th>122399</th>\n",
       "      <td>27.31</td>\n",
       "      <td>517587</td>\n",
       "      <td>Tech</td>\n",
       "      <td>TV</td>\n",
       "      <td>CA</td>\n",
       "      <td>253.842824</td>\n",
       "      <td>26.71</td>\n",
       "      <td>25</td>\n",
       "      <td>6</td>\n",
       "      <td>2024</td>\n",
       "      <td>Tuesday</td>\n",
       "      <td>0.077535</td>\n",
       "    </tr>\n",
       "  </tbody>\n",
       "</table>\n",
       "<p>120000 rows × 12 columns</p>\n",
       "</div>"
      ],
      "text/plain": [
       "        video_length_minutes  subscribers       category   device country  \\\n",
       "0                       2.86       228086  Entertainment       TV      IN   \n",
       "1                      23.74       736015         Gaming   Tablet      CA   \n",
       "2                      26.20       240534      Education       TV      CA   \n",
       "3                      11.77       434482  Entertainment   Mobile      UK   \n",
       "4                       6.64        42030      Education   Mobile      CA   \n",
       "...                      ...          ...            ...      ...     ...   \n",
       "122395                 25.49       210818      Education   Tablet      US   \n",
       "122396                 16.23       878860          Music  Desktop      UK   \n",
       "122397                 23.82       576756           Tech   Tablet      CA   \n",
       "122398                  7.75       585138          Music   Mobile      UK   \n",
       "122399                 27.31       517587           Tech       TV      CA   \n",
       "\n",
       "        ad_revenue_usd  watch_time_days  day  month  year  day_name  \\\n",
       "0           203.178237            18.40   24      9  2024   Tuesday   \n",
       "1           140.880508            10.56   22      9  2024    Sunday   \n",
       "2           360.134008            39.81   21     11  2024  Thursday   \n",
       "3           224.638261            21.76   28      1  2025   Tuesday   \n",
       "4           165.514388            10.88   28      4  2025    Monday   \n",
       "...                ...              ...  ...    ...   ...       ...   \n",
       "122395      280.986396            29.22   14     12  2024  Saturday   \n",
       "122396      354.612981            39.97   13      7  2024  Saturday   \n",
       "122397      203.643106            19.13   10      6  2024    Monday   \n",
       "122398      351.525811            39.56   22     12  2024    Sunday   \n",
       "122399      253.842824            26.71   25      6  2024   Tuesday   \n",
       "\n",
       "        engagement_rate  \n",
       "0              0.155093  \n",
       "1              0.098632  \n",
       "2              0.214519  \n",
       "3              0.142814  \n",
       "4              0.236121  \n",
       "...                 ...  \n",
       "122395         0.184715  \n",
       "122396         0.174961  \n",
       "122397         0.068180  \n",
       "122398         0.168164  \n",
       "122399         0.077535  \n",
       "\n",
       "[120000 rows x 12 columns]"
      ]
     },
     "execution_count": 1125,
     "metadata": {},
     "output_type": "execute_result"
    }
   ],
   "source": [
    "df"
   ]
  },
  {
   "cell_type": "code",
   "execution_count": 1126,
   "id": "5b8abbf9",
   "metadata": {},
   "outputs": [],
   "source": [
    "'''\n",
    "Subscribers alone (0.005 correlation) doesn’t explain revenue, because a big channel might have many subscribers who don’t actually watch.\n",
    "Engagement alone (0.13 correlation) explains interaction but ignores the channel size.\n",
    "Multiplying them gives you a \"weighted engagement\" = how much the subscriber base is engaging.\n",
    "'''\n",
    "df['sub_engagement'] = df['subscribers'] * df['engagement_rate']"
   ]
  },
  {
   "cell_type": "code",
   "execution_count": 1127,
   "id": "b9a664f9",
   "metadata": {},
   "outputs": [
    {
     "name": "stdout",
     "output_type": "stream",
     "text": [
      "ad_revenue_usd          1.000000\n",
      "watch_time_days         0.964087\n",
      "engagement_rate         0.131231\n",
      "sub_engagement          0.079547\n",
      "subscribers             0.005065\n",
      "year                    0.001053\n",
      "month                   0.000872\n",
      "video_length_minutes    0.000364\n",
      "day                    -0.002444\n",
      "Name: ad_revenue_usd, dtype: float64\n"
     ]
    }
   ],
   "source": [
    "corr_with_target = df.corr(numeric_only=True)['ad_revenue_usd'].sort_values(ascending=False)\n",
    "print(corr_with_target)"
   ]
  },
  {
   "cell_type": "code",
   "execution_count": 1128,
   "id": "54cbf961",
   "metadata": {},
   "outputs": [],
   "source": [
    "df.drop(columns=['day', 'video_length_minutes', 'month', 'year', 'subscribers'], inplace=True)"
   ]
  },
  {
   "cell_type": "code",
   "execution_count": 1129,
   "id": "981b0dc1",
   "metadata": {},
   "outputs": [
    {
     "name": "stdout",
     "output_type": "stream",
     "text": [
      "ad_revenue_usd     1.000000\n",
      "watch_time_days    0.964087\n",
      "engagement_rate    0.131231\n",
      "sub_engagement     0.079547\n",
      "Name: ad_revenue_usd, dtype: float64\n"
     ]
    }
   ],
   "source": [
    "corr_with_target = df.corr(numeric_only=True)['ad_revenue_usd'].sort_values(ascending=False)\n",
    "print(corr_with_target)"
   ]
  },
  {
   "cell_type": "code",
   "execution_count": 1130,
   "id": "6037b329",
   "metadata": {},
   "outputs": [
    {
     "data": {
      "text/plain": [
       "(             category   device country  watch_time_days  day_name  \\\n",
       " 0       Entertainment       TV      IN            18.40   Tuesday   \n",
       " 1              Gaming   Tablet      CA            10.56    Sunday   \n",
       " 2           Education       TV      CA            39.81  Thursday   \n",
       " 3       Entertainment   Mobile      UK            21.76   Tuesday   \n",
       " 4           Education   Mobile      CA            10.88    Monday   \n",
       " ...               ...      ...     ...              ...       ...   \n",
       " 122395      Education   Tablet      US            29.22  Saturday   \n",
       " 122396          Music  Desktop      UK            39.97  Saturday   \n",
       " 122397           Tech   Tablet      CA            19.13    Monday   \n",
       " 122398          Music   Mobile      UK            39.56    Sunday   \n",
       " 122399           Tech       TV      CA            26.71   Tuesday   \n",
       " \n",
       "         engagement_rate  sub_engagement  \n",
       " 0              0.155093    35374.449074  \n",
       " 1              0.098632    72594.870720  \n",
       " 2              0.214519    51599.152620  \n",
       " 3              0.142814    62050.299581  \n",
       " 4              0.236121     9924.163212  \n",
       " ...                 ...             ...  \n",
       " 122395         0.184715    38941.313306  \n",
       " 122396         0.174961   153765.789889  \n",
       " 122397         0.068180    39322.996007  \n",
       " 122398         0.168164    98399.183203  \n",
       " 122399         0.077535    40131.103615  \n",
       " \n",
       " [120000 rows x 7 columns],\n",
       " 0         203.178237\n",
       " 1         140.880508\n",
       " 2         360.134008\n",
       " 3         224.638261\n",
       " 4         165.514388\n",
       "              ...    \n",
       " 122395    280.986396\n",
       " 122396    354.612981\n",
       " 122397    203.643106\n",
       " 122398    351.525811\n",
       " 122399    253.842824\n",
       " Name: ad_revenue_usd, Length: 120000, dtype: float64)"
      ]
     },
     "execution_count": 1130,
     "metadata": {},
     "output_type": "execute_result"
    }
   ],
   "source": [
    "x = df.drop(columns=['ad_revenue_usd'])\n",
    "y = df['ad_revenue_usd']\n",
    "x, y"
   ]
  },
  {
   "cell_type": "code",
   "execution_count": 1131,
   "id": "8b02eadb",
   "metadata": {},
   "outputs": [
    {
     "data": {
      "text/html": [
       "<div>\n",
       "<style scoped>\n",
       "    .dataframe tbody tr th:only-of-type {\n",
       "        vertical-align: middle;\n",
       "    }\n",
       "\n",
       "    .dataframe tbody tr th {\n",
       "        vertical-align: top;\n",
       "    }\n",
       "\n",
       "    .dataframe thead th {\n",
       "        text-align: right;\n",
       "    }\n",
       "</style>\n",
       "<table border=\"1\" class=\"dataframe\">\n",
       "  <thead>\n",
       "    <tr style=\"text-align: right;\">\n",
       "      <th></th>\n",
       "      <th>category</th>\n",
       "      <th>device</th>\n",
       "      <th>country</th>\n",
       "      <th>watch_time_days</th>\n",
       "      <th>day_name</th>\n",
       "      <th>engagement_rate</th>\n",
       "      <th>sub_engagement</th>\n",
       "      <th>ad_revenue_usd</th>\n",
       "    </tr>\n",
       "  </thead>\n",
       "  <tbody>\n",
       "    <tr>\n",
       "      <th>0</th>\n",
       "      <td>Entertainment</td>\n",
       "      <td>TV</td>\n",
       "      <td>IN</td>\n",
       "      <td>18.40</td>\n",
       "      <td>Tuesday</td>\n",
       "      <td>0.155093</td>\n",
       "      <td>35374.449074</td>\n",
       "      <td>203.178237</td>\n",
       "    </tr>\n",
       "    <tr>\n",
       "      <th>1</th>\n",
       "      <td>Gaming</td>\n",
       "      <td>Tablet</td>\n",
       "      <td>CA</td>\n",
       "      <td>10.56</td>\n",
       "      <td>Sunday</td>\n",
       "      <td>0.098632</td>\n",
       "      <td>72594.870720</td>\n",
       "      <td>140.880508</td>\n",
       "    </tr>\n",
       "    <tr>\n",
       "      <th>2</th>\n",
       "      <td>Education</td>\n",
       "      <td>TV</td>\n",
       "      <td>CA</td>\n",
       "      <td>39.81</td>\n",
       "      <td>Thursday</td>\n",
       "      <td>0.214519</td>\n",
       "      <td>51599.152620</td>\n",
       "      <td>360.134008</td>\n",
       "    </tr>\n",
       "    <tr>\n",
       "      <th>3</th>\n",
       "      <td>Entertainment</td>\n",
       "      <td>Mobile</td>\n",
       "      <td>UK</td>\n",
       "      <td>21.76</td>\n",
       "      <td>Tuesday</td>\n",
       "      <td>0.142814</td>\n",
       "      <td>62050.299581</td>\n",
       "      <td>224.638261</td>\n",
       "    </tr>\n",
       "    <tr>\n",
       "      <th>4</th>\n",
       "      <td>Education</td>\n",
       "      <td>Mobile</td>\n",
       "      <td>CA</td>\n",
       "      <td>10.88</td>\n",
       "      <td>Monday</td>\n",
       "      <td>0.236121</td>\n",
       "      <td>9924.163212</td>\n",
       "      <td>165.514388</td>\n",
       "    </tr>\n",
       "    <tr>\n",
       "      <th>...</th>\n",
       "      <td>...</td>\n",
       "      <td>...</td>\n",
       "      <td>...</td>\n",
       "      <td>...</td>\n",
       "      <td>...</td>\n",
       "      <td>...</td>\n",
       "      <td>...</td>\n",
       "      <td>...</td>\n",
       "    </tr>\n",
       "    <tr>\n",
       "      <th>122395</th>\n",
       "      <td>Education</td>\n",
       "      <td>Tablet</td>\n",
       "      <td>US</td>\n",
       "      <td>29.22</td>\n",
       "      <td>Saturday</td>\n",
       "      <td>0.184715</td>\n",
       "      <td>38941.313306</td>\n",
       "      <td>280.986396</td>\n",
       "    </tr>\n",
       "    <tr>\n",
       "      <th>122396</th>\n",
       "      <td>Music</td>\n",
       "      <td>Desktop</td>\n",
       "      <td>UK</td>\n",
       "      <td>39.97</td>\n",
       "      <td>Saturday</td>\n",
       "      <td>0.174961</td>\n",
       "      <td>153765.789889</td>\n",
       "      <td>354.612981</td>\n",
       "    </tr>\n",
       "    <tr>\n",
       "      <th>122397</th>\n",
       "      <td>Tech</td>\n",
       "      <td>Tablet</td>\n",
       "      <td>CA</td>\n",
       "      <td>19.13</td>\n",
       "      <td>Monday</td>\n",
       "      <td>0.068180</td>\n",
       "      <td>39322.996007</td>\n",
       "      <td>203.643106</td>\n",
       "    </tr>\n",
       "    <tr>\n",
       "      <th>122398</th>\n",
       "      <td>Music</td>\n",
       "      <td>Mobile</td>\n",
       "      <td>UK</td>\n",
       "      <td>39.56</td>\n",
       "      <td>Sunday</td>\n",
       "      <td>0.168164</td>\n",
       "      <td>98399.183203</td>\n",
       "      <td>351.525811</td>\n",
       "    </tr>\n",
       "    <tr>\n",
       "      <th>122399</th>\n",
       "      <td>Tech</td>\n",
       "      <td>TV</td>\n",
       "      <td>CA</td>\n",
       "      <td>26.71</td>\n",
       "      <td>Tuesday</td>\n",
       "      <td>0.077535</td>\n",
       "      <td>40131.103615</td>\n",
       "      <td>253.842824</td>\n",
       "    </tr>\n",
       "  </tbody>\n",
       "</table>\n",
       "<p>120000 rows × 8 columns</p>\n",
       "</div>"
      ],
      "text/plain": [
       "             category   device country  watch_time_days  day_name  \\\n",
       "0       Entertainment       TV      IN            18.40   Tuesday   \n",
       "1              Gaming   Tablet      CA            10.56    Sunday   \n",
       "2           Education       TV      CA            39.81  Thursday   \n",
       "3       Entertainment   Mobile      UK            21.76   Tuesday   \n",
       "4           Education   Mobile      CA            10.88    Monday   \n",
       "...               ...      ...     ...              ...       ...   \n",
       "122395      Education   Tablet      US            29.22  Saturday   \n",
       "122396          Music  Desktop      UK            39.97  Saturday   \n",
       "122397           Tech   Tablet      CA            19.13    Monday   \n",
       "122398          Music   Mobile      UK            39.56    Sunday   \n",
       "122399           Tech       TV      CA            26.71   Tuesday   \n",
       "\n",
       "        engagement_rate  sub_engagement  ad_revenue_usd  \n",
       "0              0.155093    35374.449074      203.178237  \n",
       "1              0.098632    72594.870720      140.880508  \n",
       "2              0.214519    51599.152620      360.134008  \n",
       "3              0.142814    62050.299581      224.638261  \n",
       "4              0.236121     9924.163212      165.514388  \n",
       "...                 ...             ...             ...  \n",
       "122395         0.184715    38941.313306      280.986396  \n",
       "122396         0.174961   153765.789889      354.612981  \n",
       "122397         0.068180    39322.996007      203.643106  \n",
       "122398         0.168164    98399.183203      351.525811  \n",
       "122399         0.077535    40131.103615      253.842824  \n",
       "\n",
       "[120000 rows x 8 columns]"
      ]
     },
     "execution_count": 1131,
     "metadata": {},
     "output_type": "execute_result"
    }
   ],
   "source": [
    "df_preprocessed = pd.concat([x, y], axis=1)\n",
    "df_preprocessed"
   ]
  },
  {
   "cell_type": "code",
   "execution_count": 1132,
   "id": "08c91070",
   "metadata": {},
   "outputs": [
    {
     "name": "stderr",
     "output_type": "stream",
     "text": [
      "<>:1: SyntaxWarning: invalid escape sequence '\\G'\n",
      "<>:1: SyntaxWarning: invalid escape sequence '\\G'\n",
      "C:\\Users\\Admin\\AppData\\Local\\Temp\\ipykernel_12788\\547924228.py:1: SyntaxWarning: invalid escape sequence '\\G'\n",
      "  df_preprocessed.to_csv('D:\\Guvi projects\\YoutubeAdRevProject\\Datasets\\preprocessed_df.csv', index=False)\n"
     ]
    }
   ],
   "source": [
    "df_preprocessed.to_csv('D:\\Guvi projects\\YoutubeAdRevProject\\Datasets\\preprocessed_df.csv', index=False)"
   ]
  }
 ],
 "metadata": {
  "kernelspec": {
   "display_name": ".venv",
   "language": "python",
   "name": "python3"
  },
  "language_info": {
   "codemirror_mode": {
    "name": "ipython",
    "version": 3
   },
   "file_extension": ".py",
   "mimetype": "text/x-python",
   "name": "python",
   "nbconvert_exporter": "python",
   "pygments_lexer": "ipython3",
   "version": "3.13.5"
  }
 },
 "nbformat": 4,
 "nbformat_minor": 5
}
